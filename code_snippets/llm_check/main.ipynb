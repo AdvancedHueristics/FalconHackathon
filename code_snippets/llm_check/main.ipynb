{
 "cells": [
  {
   "cell_type": "code",
   "execution_count": null,
   "id": "61372a39-5322-4c3e-8858-eac23bf0bbfb",
   "metadata": {},
   "outputs": [],
   "source": [
    "!pip install langchain-huggingface"
   ]
  },
  {
   "cell_type": "code",
   "execution_count": null,
   "id": "6d1a65b9-6a85-4ab1-8696-9caac5bdd293",
   "metadata": {},
   "outputs": [],
   "source": [
    "from langchain_community.llms.huggingface_hub import HuggingFaceHub\n",
    "\n",
    "repo_id = \"tiiuae/falcon-7b-instruct\"\n",
    "llm = HuggingFaceHub(huggingfacehub_api_token=\"api71-api-2507e0d4-2f30-4692-9471-ba23083deff2\", \n",
    "    repo_id=repo_id, \n",
    "    model_kwargs={\"temperature\":0.6, \"max_new_tokens\":500})    "
   ]
  },
  {
   "cell_type": "code",
   "execution_count": null,
   "id": "bb5c226d-d6c0-46e4-a362-d5e152aefaf6",
   "metadata": {},
   "outputs": [],
   "source": [
    "llm.invoke(input = \"Hi\")"
   ]
  },
  {
   "cell_type": "code",
   "execution_count": null,
   "id": "e95c6fdd-7396-4b80-95f3-98e6c78e7ecf",
   "metadata": {},
   "outputs": [],
   "source": [
    "import datetime\n",
    "\n",
    "user_id = 1\n",
    "start_date = datetime.datetime.now() - datetime.timedelta(days=2)  # Start from 2 days ago\n",
    "interval = datetime.timedelta(minutes=5)  # 5-minute intervals\n",
    "end_date = datetime.datetime.now()  # Up to the current time\n",
    "\n",
    "current_time = start_date\n",
    "heart_rates = [72, 75, 80, 78, 74, 77, 79, 76, 73, 81]  # Example heart rate values\n",
    "\n",
    "sql_statements = []\n",
    "\n",
    "while current_time <= end_date:\n",
    "    heart_rate = heart_rates[current_time.minute % len(heart_rates)]  # Rotate through heart rates\n",
    "    sql = f\"INSERT INTO medbot_backend_heartrate (user_id, heart_rate, recorded_at) VALUES ({user_id}, {heart_rate}, '{current_time.strftime('%Y-%m-%d %H:%M:%S')}');\"\n",
    "    sql_statements.append(sql)\n",
    "    current_time += interval\n",
    "\n",
    "# Save SQL statements to a file\n",
    "with open('insert_heart_rate_data.sql', 'w') as file:\n",
    "    for statement in sql_statements:\n",
    "        file.write(statement + '\\n')\n",
    "\n",
    "print(\"SQL statements generated and saved to insert_heart_rate_data.sql\")\n"
   ]
  },
  {
   "cell_type": "code",
   "execution_count": null,
   "id": "77e0d78e-5e9a-44fb-b41e-7b5833f0ef3e",
   "metadata": {},
   "outputs": [],
   "source": []
  }
 ],
 "metadata": {
  "kernelspec": {
   "display_name": "Python 3 (ipykernel)",
   "language": "python",
   "name": "python3"
  },
  "language_info": {
   "codemirror_mode": {
    "name": "ipython",
    "version": 3
   },
   "file_extension": ".py",
   "mimetype": "text/x-python",
   "name": "python",
   "nbconvert_exporter": "python",
   "pygments_lexer": "ipython3",
   "version": "3.11.7"
  }
 },
 "nbformat": 4,
 "nbformat_minor": 5
}
